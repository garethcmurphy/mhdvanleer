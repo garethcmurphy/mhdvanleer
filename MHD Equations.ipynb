{
 "cells": [
  {
   "cell_type": "markdown",
   "metadata": {},
   "source": [
    "\n",
    "\n",
    "The Equations of Ideal Magnetohydrodynamics (MHD)\n",
    "\n",
    "\n",
    "The ideal MHD equations are in terms of the eight variables in addition to time t which are conserved in a volume: \n",
    "density $\\rho$, momentum, $\\rho \\mathbf u$, magnetic flux density $\\mathbf B$ and energy density, $E$.\n",
    "These equations expressed in conservation form are as follows:\n",
    "\n",
    "\n",
    "Conservation of Mass:\n",
    "\\begin{equation}\n",
    "\\frac{\\partial \\rho}{\\partial t}+\\boldsymbol{\\nabla}\\cdot(\\rho \\mathbf u)=0\n",
    "\\end{equation}\n",
    "Conservation of Momentum:\n",
    "\\begin{equation}\n",
    "\\frac{\\partial}{\\partial t}\\left(\n",
    "\\rho \\mathbf u\n",
    "\\right)\n",
    "+\\boldsymbol{\\nabla}\n",
    "\\cdot\n",
    "\\left[\n",
    "\\rho \\mathbf u \\otimes \\mathbf u\n",
    "+\\left(\n",
    "p^*\n",
    "\\right)\n",
    "\\mathbf{{\\overline {\\overline I}}}\n",
    "+\\mathbf{B} \\otimes \\mathbf{B}\n",
    "\\right]\n",
    "=0\n",
    "\\end{equation}\n",
    "Conservation of Flux:\n",
    "\\begin{equation}\n",
    "\\frac{\\partial \\mathbf{B} }{\\partial t}+\n",
    "\\boldsymbol{\\nabla}\n",
    "\\cdot\n",
    "(\n",
    "\\mathbf{u} \\otimes \\mathbf{B}-\n",
    "\\mathbf{B} \\otimes \\mathbf{u})\n",
    "= 0\n",
    "\\end{equation}\n",
    "Conservation of Energy:\n",
    "\\begin{equation}\n",
    "\\frac{\\partial E}{\\partial t}\n",
    "+\\boldsymbol{\\nabla}\n",
    "\\cdot\n",
    "\\left[\n",
    "\\left( E + p^*\\right) \\mathbf{u}\n",
    "- (\\mathbf{u}\\cdot\\mathbf{B})\\mathbf{B}\n",
    "\\right]  = 0\n",
    "\\end{equation}\n",
    "where $E$ is the total energy, kinetic, internal and magnetic \n",
    "\\begin{equation}\n",
    "E =\n",
    "\\frac{1}{2}\\rho |\\mathbf{u}|^2 + \n",
    "\\frac{p}{\\gamma-1}+\n",
    "\\frac{1}{2} |\\mathbf{B}|^2\n",
    "\\end{equation}\n",
    "and $p^*$ is the sum of thermal and magnetic pressure:\n",
    "\\begin{equation}\n",
    "p^* = p + \\frac{1}{2}|\\mathbf{B}|^2\n",
    "\\end{equation}\n",
    "The units are chosen so that $\\mathbf B$ absorbs a factor of $1/\\sqrt {4 \\pi}$.\n",
    "The adiabatic index is $\\gamma = 5/3$ for a monatomic gas throughout the simulations.\n",
    "$\\mathbf{I}$ is the identity tensor.\n",
    "There are eight equations and nine variables. In order to close the system one more equation is required, the equation of state.\n",
    "The equation of state is chosen to be the ideal gas equation."
   ]
  },
  {
   "cell_type": "code",
   "execution_count": null,
   "metadata": {
    "collapsed": true
   },
   "outputs": [],
   "source": []
  }
 ],
 "metadata": {
  "kernelspec": {
   "display_name": "Python 3",
   "language": "python",
   "name": "python3"
  },
  "language_info": {
   "codemirror_mode": {
    "name": "ipython",
    "version": 3
   },
   "file_extension": ".py",
   "mimetype": "text/x-python",
   "name": "python",
   "nbconvert_exporter": "python",
   "pygments_lexer": "ipython3",
   "version": "3.6.3"
  }
 },
 "nbformat": 4,
 "nbformat_minor": 2
}
